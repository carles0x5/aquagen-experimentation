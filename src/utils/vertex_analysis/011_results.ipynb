{
 "cells": [
  {
   "cell_type": "markdown",
   "id": "d3aa8c34-948b-49be-a0a5-1b66816804b3",
   "metadata": {},
   "source": [
    "## Set up"
   ]
  },
  {
   "cell_type": "code",
   "execution_count": 31,
   "id": "cdcd7842-7bde-473a-aac5-0425cd2ee03e",
   "metadata": {
    "tags": []
   },
   "outputs": [],
   "source": [
    "from google.cloud import aiplatform\n",
    "import pandas as pd\n",
    "import seaborn as sns\n",
    "import matplotlib.pyplot as plt"
   ]
  },
  {
   "cell_type": "code",
   "execution_count": 32,
   "id": "5a1f9fc4-1bcb-4d8c-9c25-256e0f17ed40",
   "metadata": {
    "tags": []
   },
   "outputs": [
    {
     "data": {
      "text/plain": [
       "'koa-biotech'"
      ]
     },
     "execution_count": 32,
     "metadata": {},
     "output_type": "execute_result"
    }
   ],
   "source": [
    "project = !gcloud config get-value project\n",
    "PROJECT_ID = project[0]\n",
    "PROJECT_ID"
   ]
  },
  {
   "cell_type": "code",
   "execution_count": 33,
   "id": "3b757b80-fa45-41c3-b36d-f6b9f8a0991d",
   "metadata": {
    "tags": []
   },
   "outputs": [],
   "source": [
    "REGION = 'europe-west1'\n",
    "model_id = '8316182584962842624'"
   ]
  },
  {
   "cell_type": "code",
   "execution_count": 34,
   "id": "a17c5ca3-6286-4f97-b7bf-9a065fc46902",
   "metadata": {
    "tags": []
   },
   "outputs": [],
   "source": [
    "aiplatform.init(project=PROJECT_ID, location=REGION)"
   ]
  },
  {
   "cell_type": "code",
   "execution_count": 35,
   "id": "f58a0467-44d6-4d16-90ce-14aa549a3a72",
   "metadata": {
    "tags": []
   },
   "outputs": [],
   "source": [
    "model = aiplatform.Model(model_name=f\"projects/{PROJECT_ID}/locations/{REGION}/models/{model_id}\")"
   ]
  },
  {
   "cell_type": "markdown",
   "id": "9e997898-44ea-4e2e-b221-ed6ef306da2d",
   "metadata": {},
   "source": [
    "## Model Evaluation"
   ]
  },
  {
   "cell_type": "markdown",
   "id": "39100c49-5403-4d52-ae0b-28302b343469",
   "metadata": {},
   "source": [
    "### Confusion Matrix"
   ]
  },
  {
   "cell_type": "code",
   "execution_count": 36,
   "id": "6babfbfb-8617-4166-ac71-25e92e9b6c5e",
   "metadata": {
    "tags": []
   },
   "outputs": [],
   "source": [
    "model_evaluations = model.list_model_evaluations()"
   ]
  },
  {
   "cell_type": "code",
   "execution_count": 37,
   "id": "3cf5a8e2-b76a-4415-b7a2-ab5612902366",
   "metadata": {
    "tags": []
   },
   "outputs": [],
   "source": [
    "evaluation = model_evaluations[0].to_dict()"
   ]
  },
  {
   "cell_type": "code",
   "execution_count": 44,
   "id": "fff299dc-5530-4885-ac57-7785cc2f0b52",
   "metadata": {
    "tags": []
   },
   "outputs": [
    {
     "data": {
      "text/plain": [
       "{'precisionAt1': 0.9411765,\n",
       " 'recallAt1': 0.9411765,\n",
       " 'truePositiveCount': '128',\n",
       " 'f1ScoreAt1': 0.9411765,\n",
       " 'falseNegativeCount': '8',\n",
       " 'f1ScoreMicro': 0.9411765,\n",
       " 'trueNegativeCount': '128',\n",
       " 'recall': 0.9411765,\n",
       " 'confidenceThreshold': 0.5,\n",
       " 'falsePositiveRate': 0.05882353,\n",
       " 'falsePositiveCount': '8',\n",
       " 'precision': 0.9411765,\n",
       " 'f1ScoreMacro': 0.89880955,\n",
       " 'f1Score': 0.9411765,\n",
       " 'confusionMatrix': {'annotationSpecs': [{'displayName': 'true', 'id': '0'},\n",
       "   {'displayName': 'false', 'id': '1'},\n",
       "   {'id': 'DROPPED', 'displayName': 'DROPPED'}],\n",
       "  'rows': [[108.0, 6.0, 0.0], [2.0, 20.0, 0.0], [0.0, 0.0, 0.0]]},\n",
       " 'falsePositiveRateAt1': 0.05882353}"
      ]
     },
     "execution_count": 44,
     "metadata": {},
     "output_type": "execute_result"
    }
   ],
   "source": [
    "l = len(evaluation.get('metrics').get('confidenceMetrics'))\n",
    "em = evaluation.get('metrics').get('confidenceMetrics')[l//2]\n",
    "em"
   ]
  },
  {
   "cell_type": "code",
   "execution_count": 38,
   "id": "65c845d8-2da6-4e72-b740-3a4cbb1a1598",
   "metadata": {
    "tags": []
   },
   "outputs": [],
   "source": [
    "cm = em.get('confusionMatrix')"
   ]
  },
  {
   "cell_type": "code",
   "execution_count": 39,
   "id": "fce89318-a2bb-4ba9-b06f-b0281c5416c1",
   "metadata": {
    "tags": []
   },
   "outputs": [
    {
     "data": {
      "text/html": [
       "<div>\n",
       "<style scoped>\n",
       "    .dataframe tbody tr th:only-of-type {\n",
       "        vertical-align: middle;\n",
       "    }\n",
       "\n",
       "    .dataframe tbody tr th {\n",
       "        vertical-align: top;\n",
       "    }\n",
       "\n",
       "    .dataframe thead tr th {\n",
       "        text-align: left;\n",
       "    }\n",
       "</style>\n",
       "<table border=\"1\" class=\"dataframe\">\n",
       "  <thead>\n",
       "    <tr>\n",
       "      <th></th>\n",
       "      <th></th>\n",
       "      <th colspan=\"3\" halign=\"left\">predicted</th>\n",
       "    </tr>\n",
       "    <tr>\n",
       "      <th></th>\n",
       "      <th></th>\n",
       "      <th>true</th>\n",
       "      <th>false</th>\n",
       "      <th>DROPPED</th>\n",
       "    </tr>\n",
       "  </thead>\n",
       "  <tbody>\n",
       "    <tr>\n",
       "      <th rowspan=\"2\" valign=\"top\">actual</th>\n",
       "      <th>true</th>\n",
       "      <td>108.0</td>\n",
       "      <td>6.0</td>\n",
       "      <td>0.0</td>\n",
       "    </tr>\n",
       "    <tr>\n",
       "      <th>false</th>\n",
       "      <td>2.0</td>\n",
       "      <td>20.0</td>\n",
       "      <td>0.0</td>\n",
       "    </tr>\n",
       "  </tbody>\n",
       "</table>\n",
       "</div>"
      ],
      "text/plain": [
       "             predicted              \n",
       "                  true false DROPPED\n",
       "actual true      108.0   6.0     0.0\n",
       "       false       2.0  20.0     0.0"
      ]
     },
     "execution_count": 39,
     "metadata": {},
     "output_type": "execute_result"
    }
   ],
   "source": [
    "cm_rows = list(cm.get('rows'))[:-1]\n",
    "anot = cm.get('annotationSpecs')\n",
    "labels = [val['displayName'] for val in anot]\n",
    "cm_df = pd.DataFrame(cm_rows,\n",
    "                     columns=labels,\n",
    "                     index=labels[:-1])\n",
    "cm_df.columns = pd.MultiIndex.from_product([['predicted'], cm_df.columns])\n",
    "cm_df.index = pd.MultiIndex.from_product([['actual'], cm_df.index])\n",
    "cm_df"
   ]
  },
  {
   "cell_type": "code",
   "execution_count": 40,
   "id": "9725e04b-408b-4e5e-a40c-92d09b04ad38",
   "metadata": {
    "tags": []
   },
   "outputs": [],
   "source": [
    "TN = cm_df.loc[('actual', 'false'), ('predicted', 'false')]\n",
    "FP = cm_df.loc[('actual', 'false'), ('predicted', 'true')]\n",
    "FN = cm_df.loc[('actual', 'true'), ('predicted', 'false')]\n",
    "TP = cm_df.loc[('actual', 'true'), ('predicted', 'true')]"
   ]
  },
  {
   "cell_type": "markdown",
   "id": "945c4db1-5206-48c9-b5b0-2ff804dd6645",
   "metadata": {},
   "source": [
    "### Metrics"
   ]
  },
  {
   "cell_type": "code",
   "execution_count": 41,
   "id": "2a9497e7-b16f-4c8d-91ed-7fba35f973eb",
   "metadata": {
    "tags": []
   },
   "outputs": [],
   "source": [
    "acc = 100*(TP+TN)/(TP+TN+FP+FN)\n",
    "precision = 100*TP/(TP+FP)\n",
    "recall = 100*TP/(TP+FN)\n",
    "fallout = 100*FP/(TN+FP)\n",
    "_for = 100*FN/(TN+FN)\n",
    "tnr = 100 - _for\n",
    "balanced_acc = (tnr + recall)/2\n",
    "f1 = 2*(precision*recall)/(precision+recall)"
   ]
  },
  {
   "cell_type": "markdown",
   "id": "e161ffcc-f5d3-4194-a7ba-057243ecb57d",
   "metadata": {},
   "source": [
    "### Insights"
   ]
  },
  {
   "cell_type": "code",
   "execution_count": 42,
   "id": "ae3feae3-b7f5-427d-b684-4cd5b719b919",
   "metadata": {
    "tags": []
   },
   "outputs": [
    {
     "name": "stdout",
     "output_type": "stream",
     "text": [
      "The overall model accuracy is 94.12%\n",
      "The overall model balanced accuracy is 85.83%\n"
     ]
    }
   ],
   "source": [
    "print(f'The overall model accuracy is {acc:.2f}%')\n",
    "print(f'The overall model balanced accuracy is {balanced_acc:.2f}%')"
   ]
  },
  {
   "cell_type": "code",
   "execution_count": 43,
   "id": "2c80cc63-0c7e-4cf3-ad70-f6049b93196c",
   "metadata": {
    "tags": []
   },
   "outputs": [
    {
     "name": "stdout",
     "output_type": "stream",
     "text": [
      "Given that there is a pathogen in the sample, the model is 94.74% likely to detect it.\n",
      "Given that there is no pathogen in the sample, the model is 9.09% likely to wrongly detect it.\n"
     ]
    }
   ],
   "source": [
    "print(f'Given that there is a pathogen in the sample, the model is {recall:.2f}% likely to detect it.')\n",
    "print(f'Given that there is no pathogen in the sample, the model is {fallout:.2f}% likely to wrongly detect it.')"
   ]
  },
  {
   "cell_type": "code",
   "execution_count": 30,
   "id": "d1c305d0-2e56-449e-a8bf-e82a14db81f5",
   "metadata": {
    "tags": []
   },
   "outputs": [
    {
     "name": "stdout",
     "output_type": "stream",
     "text": [
      "Given that the model gave a positive result (pathogen), the sample is 98.18% likely to have a pathogen.\n",
      "Given that the model gave a negative result (no pathogen), the sample is still 23.08% likely to have a pathogen.\n"
     ]
    }
   ],
   "source": [
    "print(f'Given that the model gave a positive result (pathogen), the sample is {precision:.2f}% likely to have a pathogen.')\n",
    "print(f'Given that the model gave a negative result (no pathogen), the sample is still {_for:.2f}% likely to have a pathogen.')"
   ]
  },
  {
   "cell_type": "markdown",
   "id": "21412df5-f7fb-47d3-9778-31f3533a2196",
   "metadata": {
    "tags": []
   },
   "source": [
    "## Feature Importances"
   ]
  },
  {
   "cell_type": "code",
   "execution_count": 26,
   "id": "174c5b8f-cba4-41ca-ac6b-60f593bf1b2c",
   "metadata": {
    "tags": []
   },
   "outputs": [],
   "source": [
    "explanation = evaluation.get('modelExplanation')"
   ]
  },
  {
   "cell_type": "code",
   "execution_count": 32,
   "id": "1cec00c0-add6-41d6-8090-be6c15dd523b",
   "metadata": {
    "tags": []
   },
   "outputs": [
    {
     "data": {
      "image/png": "[encoded data removed]",
      "text/plain": [
       "<Figure size 700x700 with 1 Axes>"
      ]
     },
     "metadata": {},
     "output_type": "display_data"
    }
   ],
   "source": [
    "features = []\n",
    "scores = []\n",
    "for k in explanation.get('meanAttributions')[0].get('featureAttributions'):\n",
    "    features.append(k)\n",
    "    scores.append(explanation.get('meanAttributions')[0].get('featureAttributions')[k])\n",
    "features = [x for _, x in sorted(zip(scores, features))]\n",
    "scores = sorted(scores)\n",
    "fig, ax = plt.subplots()\n",
    "fig.set_size_inches(7, 7)\n",
    "ax.barh(features, scores)\n",
    "fig.show()"
   ]
  }
 ],
 "metadata": {
  "environment": {
   "kernel": "conda-root-py",
   "name": "workbench-notebooks.m115",
   "type": "gcloud",
   "uri": "gcr.io/deeplearning-platform-release/workbench-notebooks:m115"
  },
  "kernelspec": {
   "display_name": "Python 3 (ipykernel) (Local)",
   "language": "python",
   "name": "conda-root-py"
  },
  "language_info": {
   "codemirror_mode": {
    "name": "ipython",
    "version": 3
   },
   "file_extension": ".py",
   "mimetype": "text/x-python",
   "name": "python",
   "nbconvert_exporter": "python",
   "pygments_lexer": "ipython3",
   "version": "3.10.13"
  }
 },
 "nbformat": 4,
 "nbformat_minor": 5
}
