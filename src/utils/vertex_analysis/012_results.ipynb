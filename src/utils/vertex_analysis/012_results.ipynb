{
 "cells": [
  {
   "cell_type": "markdown",
   "id": "d3aa8c34-948b-49be-a0a5-1b66816804b3",
   "metadata": {},
   "source": [
    "## Set up"
   ]
  },
  {
   "cell_type": "code",
   "execution_count": 23,
   "id": "cdcd7842-7bde-473a-aac5-0425cd2ee03e",
   "metadata": {
    "tags": []
   },
   "outputs": [],
   "source": [
    "from google.cloud import aiplatform\n",
    "import pandas as pd\n",
    "import seaborn as sns\n",
    "import matplotlib.pyplot as plt\n",
    "import numpy as np"
   ]
  },
  {
   "cell_type": "code",
   "execution_count": 3,
   "id": "5a1f9fc4-1bcb-4d8c-9c25-256e0f17ed40",
   "metadata": {
    "tags": []
   },
   "outputs": [
    {
     "data": {
      "text/plain": [
       "'koa-biotech'"
      ]
     },
     "execution_count": 3,
     "metadata": {},
     "output_type": "execute_result"
    }
   ],
   "source": [
    "project = !gcloud config get-value project\n",
    "PROJECT_ID = project[0]\n",
    "PROJECT_ID"
   ]
  },
  {
   "cell_type": "code",
   "execution_count": 4,
   "id": "3b757b80-fa45-41c3-b36d-f6b9f8a0991d",
   "metadata": {
    "tags": []
   },
   "outputs": [],
   "source": [
    "REGION = 'europe-west1'\n",
    "model_id = '2745229845905539072'"
   ]
  },
  {
   "cell_type": "code",
   "execution_count": 5,
   "id": "a17c5ca3-6286-4f97-b7bf-9a065fc46902",
   "metadata": {
    "tags": []
   },
   "outputs": [],
   "source": [
    "aiplatform.init(project=PROJECT_ID, location=REGION)"
   ]
  },
  {
   "cell_type": "code",
   "execution_count": 6,
   "id": "f58a0467-44d6-4d16-90ce-14aa549a3a72",
   "metadata": {
    "tags": []
   },
   "outputs": [],
   "source": [
    "model = aiplatform.Model(model_name=f\"projects/{PROJECT_ID}/locations/{REGION}/models/{model_id}\")"
   ]
  },
  {
   "cell_type": "markdown",
   "id": "9e997898-44ea-4e2e-b221-ed6ef306da2d",
   "metadata": {},
   "source": [
    "## Model Evaluation"
   ]
  },
  {
   "cell_type": "markdown",
   "id": "39100c49-5403-4d52-ae0b-28302b343469",
   "metadata": {},
   "source": [
    "### Confusion Matrix"
   ]
  },
  {
   "cell_type": "code",
   "execution_count": 7,
   "id": "6babfbfb-8617-4166-ac71-25e92e9b6c5e",
   "metadata": {
    "tags": []
   },
   "outputs": [],
   "source": [
    "model_evaluations = model.list_model_evaluations()"
   ]
  },
  {
   "cell_type": "code",
   "execution_count": 8,
   "id": "3cf5a8e2-b76a-4415-b7a2-ab5612902366",
   "metadata": {
    "tags": []
   },
   "outputs": [],
   "source": [
    "evaluation = model_evaluations[0].to_dict()"
   ]
  },
  {
   "cell_type": "code",
   "execution_count": 81,
   "id": "8a2f5ee4-a041-4a35-a044-b9f36aeead35",
   "metadata": {
    "tags": []
   },
   "outputs": [],
   "source": [
    "l = len(evaluation.get('metrics').get('confidenceMetrics'))\n",
    "em = evaluation.get('metrics').get('confidenceMetrics')[l//2]"
   ]
  },
  {
   "cell_type": "code",
   "execution_count": 10,
   "id": "f7190f2c-c954-4dd1-a622-ad7ded0dff77",
   "metadata": {
    "tags": []
   },
   "outputs": [],
   "source": [
    "cm = em.get('confusionMatrix')"
   ]
  },
  {
   "cell_type": "code",
   "execution_count": 11,
   "id": "fce89318-a2bb-4ba9-b06f-b0281c5416c1",
   "metadata": {
    "tags": []
   },
   "outputs": [
    {
     "data": {
      "text/html": [
       "<div>\n",
       "<style scoped>\n",
       "    .dataframe tbody tr th:only-of-type {\n",
       "        vertical-align: middle;\n",
       "    }\n",
       "\n",
       "    .dataframe tbody tr th {\n",
       "        vertical-align: top;\n",
       "    }\n",
       "\n",
       "    .dataframe thead tr th {\n",
       "        text-align: left;\n",
       "    }\n",
       "</style>\n",
       "<table border=\"1\" class=\"dataframe\">\n",
       "  <thead>\n",
       "    <tr>\n",
       "      <th></th>\n",
       "      <th></th>\n",
       "      <th colspan=\"7\" halign=\"left\">predicted</th>\n",
       "    </tr>\n",
       "    <tr>\n",
       "      <th></th>\n",
       "      <th></th>\n",
       "      <th>vharveyi</th>\n",
       "      <th>control</th>\n",
       "      <th>ahydrophila</th>\n",
       "      <th>vangil</th>\n",
       "      <th>pdpiscicida</th>\n",
       "      <th>tmaritimum</th>\n",
       "      <th>DROPPED</th>\n",
       "    </tr>\n",
       "  </thead>\n",
       "  <tbody>\n",
       "    <tr>\n",
       "      <th rowspan=\"6\" valign=\"top\">actual</th>\n",
       "      <th>vharveyi</th>\n",
       "      <td>34.0</td>\n",
       "      <td>2.0</td>\n",
       "      <td>2.0</td>\n",
       "      <td>0.0</td>\n",
       "      <td>0.0</td>\n",
       "      <td>2.0</td>\n",
       "      <td>2.0</td>\n",
       "    </tr>\n",
       "    <tr>\n",
       "      <th>control</th>\n",
       "      <td>6.0</td>\n",
       "      <td>28.0</td>\n",
       "      <td>0.0</td>\n",
       "      <td>0.0</td>\n",
       "      <td>0.0</td>\n",
       "      <td>0.0</td>\n",
       "      <td>0.0</td>\n",
       "    </tr>\n",
       "    <tr>\n",
       "      <th>ahydrophila</th>\n",
       "      <td>2.0</td>\n",
       "      <td>2.0</td>\n",
       "      <td>22.0</td>\n",
       "      <td>2.0</td>\n",
       "      <td>0.0</td>\n",
       "      <td>0.0</td>\n",
       "      <td>0.0</td>\n",
       "    </tr>\n",
       "    <tr>\n",
       "      <th>vangil</th>\n",
       "      <td>2.0</td>\n",
       "      <td>0.0</td>\n",
       "      <td>0.0</td>\n",
       "      <td>6.0</td>\n",
       "      <td>0.0</td>\n",
       "      <td>0.0</td>\n",
       "      <td>0.0</td>\n",
       "    </tr>\n",
       "    <tr>\n",
       "      <th>pdpiscicida</th>\n",
       "      <td>0.0</td>\n",
       "      <td>0.0</td>\n",
       "      <td>0.0</td>\n",
       "      <td>2.0</td>\n",
       "      <td>10.0</td>\n",
       "      <td>0.0</td>\n",
       "      <td>4.0</td>\n",
       "    </tr>\n",
       "    <tr>\n",
       "      <th>tmaritimum</th>\n",
       "      <td>0.0</td>\n",
       "      <td>0.0</td>\n",
       "      <td>0.0</td>\n",
       "      <td>0.0</td>\n",
       "      <td>2.0</td>\n",
       "      <td>2.0</td>\n",
       "      <td>4.0</td>\n",
       "    </tr>\n",
       "  </tbody>\n",
       "</table>\n",
       "</div>"
      ],
      "text/plain": [
       "                   predicted                                         \\\n",
       "                    vharveyi control ahydrophila vangil pdpiscicida   \n",
       "actual vharveyi         34.0     2.0         2.0    0.0         0.0   \n",
       "       control           6.0    28.0         0.0    0.0         0.0   \n",
       "       ahydrophila       2.0     2.0        22.0    2.0         0.0   \n",
       "       vangil            2.0     0.0         0.0    6.0         0.0   \n",
       "       pdpiscicida       0.0     0.0         0.0    2.0        10.0   \n",
       "       tmaritimum        0.0     0.0         0.0    0.0         2.0   \n",
       "\n",
       "                                       \n",
       "                   tmaritimum DROPPED  \n",
       "actual vharveyi           2.0     2.0  \n",
       "       control            0.0     0.0  \n",
       "       ahydrophila        0.0     0.0  \n",
       "       vangil             0.0     0.0  \n",
       "       pdpiscicida        0.0     4.0  \n",
       "       tmaritimum         2.0     4.0  "
      ]
     },
     "execution_count": 11,
     "metadata": {},
     "output_type": "execute_result"
    }
   ],
   "source": [
    "cm_rows = list(cm.get('rows'))[:-1]\n",
    "anot = cm.get('annotationSpecs')\n",
    "labels = [val['displayName'] for val in anot]\n",
    "cm_df = pd.DataFrame(cm_rows,\n",
    "                     columns=labels,\n",
    "                     index=labels[:-1])\n",
    "cm_df.columns = pd.MultiIndex.from_product([['predicted'], cm_df.columns])\n",
    "cm_df.index = pd.MultiIndex.from_product([['actual'], cm_df.index])\n",
    "\n",
    "cm_df"
   ]
  },
  {
   "cell_type": "markdown",
   "id": "945c4db1-5206-48c9-b5b0-2ff804dd6645",
   "metadata": {},
   "source": [
    "### Metrics"
   ]
  },
  {
   "cell_type": "code",
   "execution_count": 21,
   "id": "2a9497e7-b16f-4c8d-91ed-7fba35f973eb",
   "metadata": {
    "tags": []
   },
   "outputs": [
    {
     "data": {
      "text/plain": [
       "75.0"
      ]
     },
     "execution_count": 21,
     "metadata": {},
     "output_type": "execute_result"
    }
   ],
   "source": [
    "# Overall accuracy\n",
    "n = cm_df.sum().sum()\n",
    "TP = 0\n",
    "for label in labels[:-1]:\n",
    "    TP += cm_df.loc[[('actual', label)]][('predicted', label)].sum()\n",
    "acc = 100*TP/n \n",
    "acc"
   ]
  },
  {
   "cell_type": "code",
   "execution_count": 55,
   "id": "5b04da9d-64cf-4b8d-b9f2-576652c5f7bc",
   "metadata": {},
   "outputs": [
    {
     "data": {
      "text/plain": [
       "[77.27272727272727, 87.5, 91.66666666666666, 60.0, 83.33333333333334, 50.0]"
      ]
     },
     "execution_count": 55,
     "metadata": {},
     "output_type": "execute_result"
    }
   ],
   "source": [
    "# Precisions\n",
    "precisions = []\n",
    "for label in labels[:-1]:\n",
    "    p = cm_df.loc[('actual', label), ('predicted', label)].sum() / cm_df.loc[:, ('predicted', label)].sum() * 100\n",
    "    precisions.append(p)\n",
    "precisions"
   ]
  },
  {
   "cell_type": "code",
   "execution_count": 57,
   "id": "39251487-1e34-4b8f-b54e-5ab70ec8373a",
   "metadata": {
    "tags": []
   },
   "outputs": [
    {
     "data": {
      "text/plain": [
       "[10.638297872340425,\n",
       " 3.9215686274509802,\n",
       " 1.8518518518518516,\n",
       " 3.125,\n",
       " 1.6666666666666667,\n",
       " 1.5625]"
      ]
     },
     "execution_count": 57,
     "metadata": {},
     "output_type": "execute_result"
    }
   ],
   "source": [
    "# Fallouts\n",
    "fallouts = []\n",
    "for label in labels[:-1]:\n",
    "    f = cm_df.loc[cm_df.index.get_level_values(1) != label].loc[:, ('predicted', label)].sum() / cm_df.loc[cm_df.index.get_level_values(1) != label].sum().sum() * 100\n",
    "    fallouts.append(f)\n",
    "fallouts"
   ]
  },
  {
   "cell_type": "code",
   "execution_count": 27,
   "id": "a098ada6-a3bb-4c41-a758-83f256020eb1",
   "metadata": {},
   "outputs": [
    {
     "data": {
      "text/plain": [
       "[80.95238095238095, 82.35294117647058, 78.57142857142857, 75.0, 62.5, 25.0]"
      ]
     },
     "execution_count": 27,
     "metadata": {},
     "output_type": "execute_result"
    }
   ],
   "source": [
    "# Recalls\n",
    "recalls = []\n",
    "for label in labels[:-1]:\n",
    "    r = cm_df.loc[('actual', label), ('predicted', label)].sum() / cm_df.loc[('actual', label), :].sum() * 100\n",
    "    recalls.append(r)\n",
    "recalls"
   ]
  },
  {
   "cell_type": "code",
   "execution_count": 68,
   "id": "74186bdf-6e0f-4f4b-ac31-097354ecf4a7",
   "metadata": {
    "tags": []
   },
   "outputs": [
    {
     "data": {
      "text/plain": [
       "[8.695652173913043,\n",
       " 5.769230769230769,\n",
       " 5.357142857142857,\n",
       " 1.5873015873015872,\n",
       " 4.838709677419355,\n",
       " 4.545454545454546]"
      ]
     },
     "execution_count": 68,
     "metadata": {},
     "output_type": "execute_result"
    }
   ],
   "source": [
    "# False Omission Rates\n",
    "fors = []\n",
    "for label in labels[:-1]:\n",
    "    f = cm_df.loc[:, cm_df.columns.get_level_values(1) != label].loc[('actual', label), :].sum() / cm_df.loc[:, cm_df.columns.get_level_values(1) != label].sum().sum() * 100\n",
    "    fors.append(f)\n",
    "fors"
   ]
  },
  {
   "cell_type": "markdown",
   "id": "e161ffcc-f5d3-4194-a7ba-057243ecb57d",
   "metadata": {},
   "source": [
    "### Insights"
   ]
  },
  {
   "cell_type": "code",
   "execution_count": 31,
   "id": "f7529882-2063-4465-a88c-5dcb56bc1b34",
   "metadata": {
    "tags": []
   },
   "outputs": [
    {
     "name": "stdout",
     "output_type": "stream",
     "text": [
      "1 - vharveyi\n",
      "2 - control\n",
      "3 - ahydrophila\n",
      "4 - vangil\n",
      "5 - pdpiscicida\n",
      "6 - tmaritimum\n"
     ]
    }
   ],
   "source": [
    "for a in zip(range(1,len(labels)), labels[:-1]):\n",
    "    print(a[0],'-',a[1])"
   ]
  },
  {
   "cell_type": "code",
   "execution_count": 77,
   "id": "63c05b52-ecbc-4e8d-97e4-30493f9f82a0",
   "metadata": {},
   "outputs": [],
   "source": [
    "# Select pathogen\n",
    "## USER INPUT ##\n",
    "selection = 4\n",
    "\n",
    "###\n",
    "pathogen = labels[selection - 1]\n",
    "recall = recalls[selection-1]\n",
    "fallout = fallouts[selection-1]\n",
    "precision = precisions[selection-1]\n",
    "_for = fors[selection-1]"
   ]
  },
  {
   "cell_type": "code",
   "execution_count": 74,
   "id": "ae3feae3-b7f5-427d-b684-4cd5b719b919",
   "metadata": {
    "tags": []
   },
   "outputs": [
    {
     "name": "stdout",
     "output_type": "stream",
     "text": [
      "The overall model accuracy is 75.00%\n"
     ]
    }
   ],
   "source": [
    "print(f'The overall model accuracy is {acc:.2f}%')"
   ]
  },
  {
   "cell_type": "code",
   "execution_count": 80,
   "id": "2c80cc63-0c7e-4cf3-ad70-f6049b93196c",
   "metadata": {
    "tags": []
   },
   "outputs": [
    {
     "name": "stdout",
     "output_type": "stream",
     "text": [
      "Given that there is vangil in the sample, the model is 75.00% likely to detect it.\n",
      "Given that there is no vangil in the sample, the model is 3.12% likely to wrongly detect it.\n"
     ]
    }
   ],
   "source": [
    "print(f'Given that there is {pathogen} in the sample, the model is {recall:.2f}% likely to detect it.')\n",
    "print(f'Given that there is no {pathogen} in the sample, the model is {fallout:.2f}% likely to wrongly detect it.')"
   ]
  },
  {
   "cell_type": "code",
   "execution_count": 79,
   "id": "d1c305d0-2e56-449e-a8bf-e82a14db81f5",
   "metadata": {
    "tags": []
   },
   "outputs": [
    {
     "name": "stdout",
     "output_type": "stream",
     "text": [
      "Given that the model detected vangil, the sample is 60.00% likely to have a vangil.\n",
      "Given that the model did not detect vangil, the sample is still 1.59% likely to have vangil.\n"
     ]
    }
   ],
   "source": [
    "print(f'Given that the model detected {pathogen}, the sample is {precision:.2f}% likely to have a {pathogen}.')\n",
    "print(f'Given that the model did not detect {pathogen}, the sample is still {_for:.2f}% likely to have {pathogen}.')"
   ]
  },
  {
   "cell_type": "markdown",
   "id": "21412df5-f7fb-47d3-9778-31f3533a2196",
   "metadata": {
    "tags": []
   },
   "source": [
    "## Feature Importances"
   ]
  },
  {
   "cell_type": "code",
   "execution_count": 71,
   "id": "174c5b8f-cba4-41ca-ac6b-60f593bf1b2c",
   "metadata": {
    "tags": []
   },
   "outputs": [],
   "source": [
    "explanation = evaluation.get('modelExplanation')"
   ]
  },
  {
   "cell_type": "code",
   "execution_count": 72,
   "id": "1cec00c0-add6-41d6-8090-be6c15dd523b",
   "metadata": {
    "tags": []
   },
   "outputs": [
    {
     "data": {
      "image/png": "[encoded data removed]",
      "text/plain": [
       "<Figure size 700x700 with 1 Axes>"
      ]
     },
     "metadata": {},
     "output_type": "display_data"
    }
   ],
   "source": [
    "features = []\n",
    "scores = []\n",
    "for k in explanation.get('meanAttributions')[0].get('featureAttributions'):\n",
    "    features.append(k)\n",
    "    scores.append(explanation.get('meanAttributions')[0].get('featureAttributions')[k])\n",
    "features = [x for _, x in sorted(zip(scores, features))]\n",
    "scores = sorted(scores)\n",
    "fig, ax = plt.subplots()\n",
    "fig.set_size_inches(7, 7)\n",
    "ax.barh(features, scores)\n",
    "fig.show()"
   ]
  }
 ],
 "metadata": {
  "environment": {
   "kernel": "conda-root-py",
   "name": "workbench-notebooks.m115",
   "type": "gcloud",
   "uri": "gcr.io/deeplearning-platform-release/workbench-notebooks:m115"
  },
  "kernelspec": {
   "display_name": "Python 3 (ipykernel) (Local)",
   "language": "python",
   "name": "conda-root-py"
  },
  "language_info": {
   "codemirror_mode": {
    "name": "ipython",
    "version": 3
   },
   "file_extension": ".py",
   "mimetype": "text/x-python",
   "name": "python",
   "nbconvert_exporter": "python",
   "pygments_lexer": "ipython3",
   "version": "3.10.13"
  }
 },
 "nbformat": 4,
 "nbformat_minor": 5
}
